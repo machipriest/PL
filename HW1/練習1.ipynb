{
 "cells": [
  {
   "cell_type": "code",
   "execution_count": 6,
   "id": "0aaadb98",
   "metadata": {
    "scrolled": true
   },
   "outputs": [
    {
     "data": {
      "text/html": [
       "<div>\n",
       "<style scoped>\n",
       "    .dataframe tbody tr th:only-of-type {\n",
       "        vertical-align: middle;\n",
       "    }\n",
       "\n",
       "    .dataframe tbody tr th {\n",
       "        vertical-align: top;\n",
       "    }\n",
       "\n",
       "    .dataframe thead th {\n",
       "        text-align: right;\n",
       "    }\n",
       "</style>\n",
       "<table border=\"1\" class=\"dataframe\">\n",
       "  <thead>\n",
       "    <tr style=\"text-align: right;\">\n",
       "      <th></th>\n",
       "      <th>排名</th>\n",
       "      <th>drama/variety show</th>\n",
       "    </tr>\n",
       "  </thead>\n",
       "  <tbody>\n",
       "    <tr>\n",
       "      <th>0</th>\n",
       "      <td>1</td>\n",
       "      <td>動物-老虎</td>\n",
       "    </tr>\n",
       "    <tr>\n",
       "      <th>1</th>\n",
       "      <td>2</td>\n",
       "      <td>動物-駱駝</td>\n",
       "    </tr>\n",
       "    <tr>\n",
       "      <th>2</th>\n",
       "      <td>3</td>\n",
       "      <td>其他-鑽石</td>\n",
       "    </tr>\n",
       "    <tr>\n",
       "      <th>3</th>\n",
       "      <td>4</td>\n",
       "      <td>其他-地球</td>\n",
       "    </tr>\n",
       "    <tr>\n",
       "      <th>4</th>\n",
       "      <td>5</td>\n",
       "      <td>動物-貓頭鷹</td>\n",
       "    </tr>\n",
       "    <tr>\n",
       "      <th>5</th>\n",
       "      <td>6</td>\n",
       "      <td>其他-珍奶</td>\n",
       "    </tr>\n",
       "    <tr>\n",
       "      <th>6</th>\n",
       "      <td>7</td>\n",
       "      <td>元素-魂</td>\n",
       "    </tr>\n",
       "    <tr>\n",
       "      <th>7</th>\n",
       "      <td>8</td>\n",
       "      <td>動物-刺蝟</td>\n",
       "    </tr>\n",
       "    <tr>\n",
       "      <th>8</th>\n",
       "      <td>9</td>\n",
       "      <td>動物-鯊魚</td>\n",
       "    </tr>\n",
       "    <tr>\n",
       "      <th>9</th>\n",
       "      <td>10</td>\n",
       "      <td>動物-松鼠</td>\n",
       "    </tr>\n",
       "  </tbody>\n",
       "</table>\n",
       "</div>"
      ],
      "text/plain": [
       "   排名 drama/variety show\n",
       "0   1              動物-老虎\n",
       "1   2              動物-駱駝\n",
       "2   3              其他-鑽石\n",
       "3   4              其他-地球\n",
       "4   5             動物-貓頭鷹\n",
       "5   6              其他-珍奶\n",
       "6   7               元素-魂\n",
       "7   8              動物-刺蝟\n",
       "8   9              動物-鯊魚\n",
       "9  10              動物-松鼠"
      ]
     },
     "execution_count": 6,
     "metadata": {},
     "output_type": "execute_result"
    }
   ],
   "source": [
    "#匯入csv檔案\n",
    "#ZOONA-動物園AR/VR混合專案 懷生國小A班頭像使用排行\n",
    "\n",
    "import pandas as pd\n",
    "\n",
    "avatarData_A = pd.read_csv(\"data1.csv\",encoding=\"Big5\")\n",
    "avatarData_A"
   ]
  },
  {
   "cell_type": "code",
   "execution_count": 7,
   "id": "51f9187e",
   "metadata": {},
   "outputs": [
    {
     "data": {
      "text/html": [
       "<div>\n",
       "<style scoped>\n",
       "    .dataframe tbody tr th:only-of-type {\n",
       "        vertical-align: middle;\n",
       "    }\n",
       "\n",
       "    .dataframe tbody tr th {\n",
       "        vertical-align: top;\n",
       "    }\n",
       "\n",
       "    .dataframe thead th {\n",
       "        text-align: right;\n",
       "    }\n",
       "</style>\n",
       "<table border=\"1\" class=\"dataframe\">\n",
       "  <thead>\n",
       "    <tr style=\"text-align: right;\">\n",
       "      <th></th>\n",
       "      <th>排名</th>\n",
       "      <th>drama/variety show</th>\n",
       "    </tr>\n",
       "  </thead>\n",
       "  <tbody>\n",
       "    <tr>\n",
       "      <th>0</th>\n",
       "      <td>1</td>\n",
       "      <td>其他-鑽石</td>\n",
       "    </tr>\n",
       "    <tr>\n",
       "      <th>1</th>\n",
       "      <td>2</td>\n",
       "      <td>動物-駱駝</td>\n",
       "    </tr>\n",
       "    <tr>\n",
       "      <th>2</th>\n",
       "      <td>3</td>\n",
       "      <td>動物-變色龍</td>\n",
       "    </tr>\n",
       "    <tr>\n",
       "      <th>3</th>\n",
       "      <td>4</td>\n",
       "      <td>其他-地球</td>\n",
       "    </tr>\n",
       "    <tr>\n",
       "      <th>4</th>\n",
       "      <td>5</td>\n",
       "      <td>動物-貓頭鷹</td>\n",
       "    </tr>\n",
       "    <tr>\n",
       "      <th>5</th>\n",
       "      <td>6</td>\n",
       "      <td>其他-珍奶</td>\n",
       "    </tr>\n",
       "    <tr>\n",
       "      <th>6</th>\n",
       "      <td>7</td>\n",
       "      <td>元素-時</td>\n",
       "    </tr>\n",
       "    <tr>\n",
       "      <th>7</th>\n",
       "      <td>8</td>\n",
       "      <td>其他-彩虹</td>\n",
       "    </tr>\n",
       "    <tr>\n",
       "      <th>8</th>\n",
       "      <td>9</td>\n",
       "      <td>動物-鯊魚</td>\n",
       "    </tr>\n",
       "    <tr>\n",
       "      <th>9</th>\n",
       "      <td>10</td>\n",
       "      <td>動物-綿羊</td>\n",
       "    </tr>\n",
       "  </tbody>\n",
       "</table>\n",
       "</div>"
      ],
      "text/plain": [
       "   排名 drama/variety show\n",
       "0   1              其他-鑽石\n",
       "1   2              動物-駱駝\n",
       "2   3             動物-變色龍\n",
       "3   4              其他-地球\n",
       "4   5             動物-貓頭鷹\n",
       "5   6              其他-珍奶\n",
       "6   7               元素-時\n",
       "7   8              其他-彩虹\n",
       "8   9              動物-鯊魚\n",
       "9  10              動物-綿羊"
      ]
     },
     "execution_count": 7,
     "metadata": {},
     "output_type": "execute_result"
    }
   ],
   "source": [
    "#匯入csv檔案\n",
    "#ZOONA-動物園AR/VR混合專案 懷生國小B班頭像使用排行\n",
    "\n",
    "import pandas as pd\n",
    "\n",
    "avatarData_B = pd.read_csv(\"data2.csv\",encoding=\"Big5\")\n",
    "avatarData_B"
   ]
  },
  {
   "cell_type": "code",
   "execution_count": 8,
   "id": "b39300fd",
   "metadata": {},
   "outputs": [
    {
     "data": {
      "text/plain": [
       "{'元素-魂',\n",
       " '其他-地球',\n",
       " '其他-珍奶',\n",
       " '其他-鑽石',\n",
       " '動物-刺蝟',\n",
       " '動物-松鼠',\n",
       " '動物-老虎',\n",
       " '動物-貓頭鷹',\n",
       " '動物-駱駝',\n",
       " '動物-鯊魚'}"
      ]
     },
     "execution_count": 8,
     "metadata": {},
     "output_type": "execute_result"
    }
   ],
   "source": [
    "#列出A班排行子集合\n",
    "set_dataA = set(avatarData_A[\"drama/variety show\"])\n",
    "set_dataA"
   ]
  },
  {
   "cell_type": "code",
   "execution_count": 9,
   "id": "90e5cda6",
   "metadata": {},
   "outputs": [
    {
     "data": {
      "text/plain": [
       "{'元素-時',\n",
       " '其他-地球',\n",
       " '其他-彩虹',\n",
       " '其他-珍奶',\n",
       " '其他-鑽石',\n",
       " '動物-綿羊',\n",
       " '動物-變色龍',\n",
       " '動物-貓頭鷹',\n",
       " '動物-駱駝',\n",
       " '動物-鯊魚'}"
      ]
     },
     "execution_count": 9,
     "metadata": {},
     "output_type": "execute_result"
    }
   ],
   "source": [
    "#列出B班排行子集合\n",
    "set_dataB = set(avatarData_B[\"drama/variety show\"])\n",
    "set_dataB"
   ]
  },
  {
   "cell_type": "code",
   "execution_count": 10,
   "id": "659c2788",
   "metadata": {},
   "outputs": [
    {
     "data": {
      "text/plain": [
       "{'其他-地球', '其他-珍奶', '其他-鑽石', '動物-貓頭鷹', '動物-駱駝', '動物-鯊魚'}"
      ]
     },
     "execution_count": 10,
     "metadata": {},
     "output_type": "execute_result"
    }
   ],
   "source": [
    "#交集\n",
    "#A班【與】B班都有上榜的頭像\n",
    "(set_dataA & set_dataB)"
   ]
  },
  {
   "cell_type": "code",
   "execution_count": 11,
   "id": "3a61e9c4",
   "metadata": {},
   "outputs": [
    {
     "data": {
      "text/plain": [
       "{'元素-時',\n",
       " '元素-魂',\n",
       " '其他-地球',\n",
       " '其他-彩虹',\n",
       " '其他-珍奶',\n",
       " '其他-鑽石',\n",
       " '動物-刺蝟',\n",
       " '動物-松鼠',\n",
       " '動物-綿羊',\n",
       " '動物-老虎',\n",
       " '動物-變色龍',\n",
       " '動物-貓頭鷹',\n",
       " '動物-駱駝',\n",
       " '動物-鯊魚'}"
      ]
     },
     "execution_count": 11,
     "metadata": {},
     "output_type": "execute_result"
    }
   ],
   "source": [
    "#聯集\n",
    "#A班【或】B班有上榜的頭像\n",
    "(set_dataA | set_dataB)"
   ]
  },
  {
   "cell_type": "code",
   "execution_count": 12,
   "id": "f1b7ed1d",
   "metadata": {},
   "outputs": [
    {
     "data": {
      "text/plain": [
       "{'元素-魂', '動物-刺蝟', '動物-松鼠', '動物-老虎'}"
      ]
     },
     "execution_count": 12,
     "metadata": {},
     "output_type": "execute_result"
    }
   ],
   "source": [
    ".#差集\n",
    "#A班有上榜但B班沒有上榜的頭像\n",
    "(set_dataA - (set_dataA & set_dataB))"
   ]
  },
  {
   "cell_type": "code",
   "execution_count": 13,
   "id": "ccfda11d",
   "metadata": {},
   "outputs": [
    {
     "data": {
      "text/plain": [
       "{'元素-時', '其他-彩虹', '動物-綿羊', '動物-變色龍'}"
      ]
     },
     "execution_count": 13,
     "metadata": {},
     "output_type": "execute_result"
    }
   ],
   "source": [
    "#差集\n",
    "#B班有上榜但A班沒有上榜的頭像\n",
    "(set_dataB - (set_dataA & set_dataB))"
   ]
  },
  {
   "cell_type": "code",
   "execution_count": 16,
   "id": "fc820015",
   "metadata": {},
   "outputs": [
    {
     "data": {
      "text/plain": [
       "{'元素-時', '元素-魂', '其他-彩虹', '動物-刺蝟', '動物-松鼠', '動物-綿羊', '動物-老虎', '動物-變色龍'}"
      ]
     },
     "execution_count": 16,
     "metadata": {},
     "output_type": "execute_result"
    }
   ],
   "source": [
    "#對稱差集\n",
    "#只有A班有上榜或只有B班有上榜的頭像\n",
    "((set_dataA | set_dataB) - (set_dataA & set_dataB))"
   ]
  },
  {
   "cell_type": "code",
   "execution_count": null,
   "id": "3e7b8179",
   "metadata": {},
   "outputs": [],
   "source": []
  }
 ],
 "metadata": {
  "kernelspec": {
   "display_name": "Python 3 (ipykernel)",
   "language": "python",
   "name": "python3"
  },
  "language_info": {
   "codemirror_mode": {
    "name": "ipython",
    "version": 3
   },
   "file_extension": ".py",
   "mimetype": "text/x-python",
   "name": "python",
   "nbconvert_exporter": "python",
   "pygments_lexer": "ipython3",
   "version": "3.9.13"
  }
 },
 "nbformat": 4,
 "nbformat_minor": 5
}
